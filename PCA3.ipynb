{
 "cells": [
  {
   "cell_type": "markdown",
   "id": "f7d47b58-3703-44c1-817f-1748278a9c74",
   "metadata": {},
   "source": [
    "# Ans  : 1"
   ]
  },
  {
   "cell_type": "code",
   "execution_count": null,
   "id": "2e183fea-502d-4e8d-873a-3d7abd7eae20",
   "metadata": {},
   "outputs": [],
   "source": [
    "'''\n",
    "Eigenvalues and eigenvectors are fundamental concepts in linear algebra. For a given square matrix \n",
    "A, an eigenvector is a non-zero vector that only changes in scale when the matrix is applied to it. The eigenvalue is the factor by which\n",
    "the eigenvector is scaled. In essence, eigenvectors point in directions that are invariant under the transformation represented by the \n",
    "matrix, and eigenvalues tell us how much the eigenvector is stretched or compressed in that direction.\n",
    "\n",
    "Relation to Eigen-Decomposition:\n",
    "Eigen-decomposition is a way to factorize a matrix into a set of eigenvectors and eigenvalues. This decomposition expresses the matrix as a\n",
    "product involving a diagonal matrix of its eigenvalues and a matrix of its eigenvectors. This representation simplifies many mathematical\n",
    "operations and provides insights into the matrix's properties.\n",
    "\n",
    "Example:\n",
    "For a matrix representing a geometric transformation, the eigenvectors might represent directions of stretching, and the eigenvalues tell\n",
    "us how much stretching occurs in those directions.\n",
    "''"
   ]
  },
  {
   "cell_type": "markdown",
   "id": "4fadf3ab-ee4e-4264-b429-c8aebd64c382",
   "metadata": {},
   "source": [
    "# Ans : 2"
   ]
  },
  {
   "cell_type": "code",
   "execution_count": null,
   "id": "b33595aa-a945-4e93-8369-21f8c92b796c",
   "metadata": {},
   "outputs": [],
   "source": [
    "'''\n",
    "Eigen decomposition is the process of breaking down a square matrix into its eigenvalues and eigenvectors. It is significant because it\n",
    "provides a simplified form of the matrix that is easier to work with for many applications.\n",
    "\n",
    "Significance:\n",
    "\n",
    "Simplifies Computations: Transforms complex matrix operations into simpler, more manageable forms.\n",
    "Reveals Matrix Properties: Eigenvalues and eigenvectors provide insight into the behavior of the matrix, such as its stability and response to different operations.\n",
    "Applications in Data Analysis: Techniques like Principal Component Analysis (PCA) use eigen decomposition to reduce the dimensionality of data while preserving important features.\n",
    "Diagonalizability: Helps determine if a matrix can be simplified into a diagonal form, making it easier to understand and manipulate.\n",
    "\n",
    "'''"
   ]
  },
  {
   "cell_type": "markdown",
   "id": "81f49fa3-f238-4b01-b953-b81fcc6bed44",
   "metadata": {},
   "source": [
    "# Ans : 3"
   ]
  },
  {
   "cell_type": "code",
   "execution_count": null,
   "id": "ab89c514-9ce2-47e5-b214-bafce2b929ab",
   "metadata": {},
   "outputs": [],
   "source": [
    "'''\n",
    "A square matrix A is diagonalizable if and only if it has enough linearly independent eigenvectors to form a basis for the space. This means the matrix must have \n",
    "n linearly independent eigenvectors if it is an n×n matrix. The geometric multiplicity (number of linearly independent eigenvectors) of each eigenvalue must equal its algebraic multiplicity (the number of times the eigenvalue appears as a root of the characteristic equation).\n",
    "\n",
    "'''"
   ]
  },
  {
   "cell_type": "markdown",
   "id": "842ea272-8f93-4ee2-80d7-6c0e1b722e69",
   "metadata": {},
   "source": [
    "# Ans : 4"
   ]
  },
  {
   "cell_type": "code",
   "execution_count": null,
   "id": "7ba88953-2ac2-4943-afbe-b792669fbf9a",
   "metadata": {},
   "outputs": [],
   "source": [
    "'''\n"
   ]
  },
  {
   "cell_type": "markdown",
   "id": "8990425e-21f5-407e-9717-dd971bf5ae28",
   "metadata": {},
   "source": [
    "# Ans : 5"
   ]
  },
  {
   "cell_type": "code",
   "execution_count": null,
   "id": "a176aab9-24e8-416f-87c1-59cc66858e17",
   "metadata": {},
   "outputs": [],
   "source": [
    "'''\n",
    "Eigenvalues of a matrix A are found by solving the characteristic equation det(A−λI)=0. Eigenvalues represent the factors by which the corresponding eigenvectors are scaled during the transformation represented by A.\n",
    "\n",
    "'''"
   ]
  },
  {
   "cell_type": "markdown",
   "id": "73efed89-e3d8-4196-bc70-d4927c48b9c2",
   "metadata": {},
   "source": [
    "# Ans : 6"
   ]
  },
  {
   "cell_type": "code",
   "execution_count": null,
   "id": "c6509c53-f2e3-482d-9cc8-a4a511486bca",
   "metadata": {},
   "outputs": [],
   "source": [
    "'''\n",
    "Eigenvectors are non-zero vectors that change only in magnitude (not direction) when a linear transformation (matrix A) is applied to them.\n",
    "They are related to eigenvalues in that the eigenvalue is the scaling factor applied to the eigenvector during the transformation.\n",
    "\n",
    "'''"
   ]
  },
  {
   "cell_type": "markdown",
   "id": "94d0c877-8299-46a9-bc00-3f20dba8f320",
   "metadata": {},
   "source": [
    "# Ans : 7"
   ]
  },
  {
   "cell_type": "code",
   "execution_count": null,
   "id": "8b4cc6c2-1280-453a-b03f-f6fce66a3b73",
   "metadata": {},
   "outputs": [],
   "source": [
    "'''\n",
    "Geometrically, eigenvectors represent directions in which a linear transformation acts by stretching or compressing. The corresponding\n",
    "eigenvalue indicates how much the eigenvector is stretched or compressed along that direction.\n",
    "\n",
    "'''"
   ]
  },
  {
   "cell_type": "markdown",
   "id": "b79d85fc-d53b-43fb-a2c5-9f3db851a5df",
   "metadata": {},
   "source": [
    "# Ans : 8"
   ]
  },
  {
   "cell_type": "code",
   "execution_count": null,
   "id": "d8609ec5-fa22-4222-afed-0c665a5a2950",
   "metadata": {},
   "outputs": [],
   "source": [
    "'''\n",
    "Principal Component Analysis (PCA): Used for dimensionality reduction in data analysis.\n",
    "Vibration Analysis: Used in engineering to study the natural frequencies and modes of structures.\n",
    "Quantum Mechanics: Used to solve the Schrödinger equation and find the energy levels of systems.\n",
    "Facial Recognition: Used in computer vision to identify features and patterns.\n",
    "\n",
    "'''"
   ]
  },
  {
   "cell_type": "markdown",
   "id": "20b93e67-9163-486d-b987-a6bb2a94d110",
   "metadata": {},
   "source": [
    "# Ans : 9"
   ]
  },
  {
   "cell_type": "code",
   "execution_count": null,
   "id": "94c3aa49-d6f8-4567-9a56-8a1cb95af5b4",
   "metadata": {},
   "outputs": [],
   "source": [
    "'''\n",
    "A matrix has a unique set of eigenvalues, but it can have different sets of eigenvectors corresponding to each eigenvalue, depending on \n",
    "the multiplicity and the eigenspace. However, the span of the eigenspace remains the same.\n",
    "\n",
    "'''"
   ]
  },
  {
   "cell_type": "markdown",
   "id": "8d5a56ff-12ac-44a4-a8a6-d0d2c59f73c1",
   "metadata": {},
   "source": [
    "# Ans : 10"
   ]
  },
  {
   "cell_type": "code",
   "execution_count": null,
   "id": "a1a92b7a-bc38-4893-ac78-24fddfa021f0",
   "metadata": {},
   "outputs": [],
   "source": [
    "'''\n",
    "Decomposition.\n",
    "\n",
    "Principal Component Analysis (PCA): Uses eigen decomposition of the covariance matrix to reduce dimensionality while preserving variance.\n",
    "Spectral Clustering: Uses the eigenvalues and eigenvectors of similarity matrices to perform clustering.\n",
    "Image Compression: Uses eigen decomposition to represent images in a lower-dimensional space, reducing storage requirements while preserving important features.\n",
    "\n",
    "'''"
   ]
  }
 ],
 "metadata": {
  "kernelspec": {
   "display_name": "Python 3 (ipykernel)",
   "language": "python",
   "name": "python3"
  },
  "language_info": {
   "codemirror_mode": {
    "name": "ipython",
    "version": 3
   },
   "file_extension": ".py",
   "mimetype": "text/x-python",
   "name": "python",
   "nbconvert_exporter": "python",
   "pygments_lexer": "ipython3",
   "version": "3.10.8"
  }
 },
 "nbformat": 4,
 "nbformat_minor": 5
}
